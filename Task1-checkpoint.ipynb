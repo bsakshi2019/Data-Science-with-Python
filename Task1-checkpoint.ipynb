{
 "cells": [
  {
   "cell_type": "markdown",
   "id": "1023e65b",
   "metadata": {},
   "source": [
    "# Description: This task involves understanding the basic data types in Python such as lists, dictionaries, and sets. \n",
    "\n",
    "## Responsibility: Write a Python program to create a list, a dictionary, and a set. Perform basic operations like adding, removing, and modifying elements.\n"
   ]
  },
  {
   "cell_type": "markdown",
   "id": "72c80b86",
   "metadata": {},
   "source": [
    "# 1. List Operations\n",
    "Lists in Python are ordered, mutable sequences. \n"
   ]
  },
  {
   "cell_type": "markdown",
   "id": "a1499405",
   "metadata": {},
   "source": [
    "List Operations:\n",
    "\n",
    "append(x): Adds an element x to the end of the list.\n",
    "\n",
    "insert(i, x): Inserts an element x at index i.\n",
    "\n",
    "remove(x): Removes the first occurrence of element x.\n",
    "\n",
    "pop(): Removes and returns the last element of the list.\n",
    "\n",
    "my_list[i] = x: Modifies the element at index i to x."
   ]
  },
  {
   "cell_type": "code",
   "execution_count": 35,
   "id": "72f22dfb",
   "metadata": {},
   "outputs": [
    {
     "name": "stdout",
     "output_type": "stream",
     "text": [
      "Initial list: [10, 20, 30, 40, 50, 60]\n"
     ]
    }
   ],
   "source": [
    "# Creating a list\n",
    "my_list = [10,20,30,40,50,60]\n",
    "print(\"Initial list:\", my_list) "
   ]
  },
  {
   "cell_type": "code",
   "execution_count": 36,
   "id": "981d1720",
   "metadata": {},
   "outputs": [
    {
     "name": "stdout",
     "output_type": "stream",
     "text": [
      "After appending 60: [10, 20, 30, 40, 50, 60, 70]\n",
      "\n",
      "After inserting 25 at index 2: [10, 20, 25, 30, 40, 50, 60, 70]\n"
     ]
    }
   ],
   "source": [
    "# Adding elements\n",
    "my_list.append(70)\n",
    "print(\"After appending 60:\", my_list)\n",
    "print(\"\")\n",
    "\n",
    "my_list.insert(2, 25)\n",
    "print(\"After inserting 25 at index 2:\", my_list)\n"
   ]
  },
  {
   "cell_type": "code",
   "execution_count": 37,
   "id": "5d216ebb",
   "metadata": {},
   "outputs": [
    {
     "name": "stdout",
     "output_type": "stream",
     "text": [
      "After removing 2.5: [10, 20, 30, 40, 50, 60, 70]\n",
      "\n",
      "After popping an element: [10, 20, 30, 40, 50, 60]\n",
      "Popped element: 70\n"
     ]
    }
   ],
   "source": [
    "# Removing elements\n",
    "my_list.remove(25)\n",
    "print(\"After removing 2.5:\", my_list)\n",
    "print(\"\")\n",
    "\n",
    "popped_element = my_list.pop()\n",
    "print(\"After popping an element:\", my_list)\n",
    "print(\"Popped element:\", popped_element)\n",
    "\n",
    "\n"
   ]
  },
  {
   "cell_type": "code",
   "execution_count": 38,
   "id": "b6e838bc",
   "metadata": {},
   "outputs": [
    {
     "name": "stdout",
     "output_type": "stream",
     "text": [
      "After modifying the element at index 1: [10, 15, 30, 40, 50, 60]\n"
     ]
    }
   ],
   "source": [
    "# Modifying elements\n",
    "my_list[1] = 15\n",
    "print(\"After modifying the element at index 1:\", my_list)"
   ]
  },
  {
   "cell_type": "code",
   "execution_count": 39,
   "id": "7242bd1e",
   "metadata": {},
   "outputs": [
    {
     "name": "stdout",
     "output_type": "stream",
     "text": [
      "displaying the element(40) index value: 3\n",
      "\n",
      "datatype used here is: <class 'list'>\n"
     ]
    }
   ],
   "source": [
    "#displaying the element index value\n",
    "position=my_list.index(40)\n",
    "print(\"displaying the element(40) index value:\",position)\n",
    "print(\"\")\n",
    "\n",
    "#getting to know the datatype used\n",
    "print(\"datatype used here is:\",type(my_list))\n",
    "\n"
   ]
  },
  {
   "cell_type": "markdown",
   "id": "e223630c",
   "metadata": {},
   "source": [
    "# 2. Dictionary Operations\n",
    "Dictionaries in Python are unordered collections of key-value pairs.\n"
   ]
  },
  {
   "cell_type": "markdown",
   "id": "1e11ed48",
   "metadata": {},
   "source": [
    "Dictionary Operations:\n",
    "\n",
    "my_dict[key] = value: Adds a key-value pair or modifies the value for an existing key.\n",
    "\n",
    "del my_dict[key]: Deletes the key-value pair with the specified key.\n",
    "\n",
    "pop(key): Removes and returns the value associated with the specified key."
   ]
  },
  {
   "cell_type": "code",
   "execution_count": 55,
   "id": "acdf62c7",
   "metadata": {},
   "outputs": [
    {
     "name": "stdout",
     "output_type": "stream",
     "text": [
      "Student list: {501: 'Ajay', 502: 'Aayush', 503: 'Banu', 504: 'Disha', 505: 'Ginni'}\n"
     ]
    }
   ],
   "source": [
    "# Creating a dictionary (STUDENT RECORD)\n",
    "my_dict = {501:'Ajay',\n",
    "           502:'Aayush',\n",
    "           503:'Banu',\n",
    "           504:'Disha',\n",
    "           505:'Ginni'}\n",
    "print(\"Student list:\", my_dict)"
   ]
  },
  {
   "cell_type": "code",
   "execution_count": 56,
   "id": "b31ef7bc",
   "metadata": {},
   "outputs": [
    {
     "name": "stdout",
     "output_type": "stream",
     "text": [
      "After adding new student 'Heena': {501: 'Ajay', 502: 'Aayush', 503: 'Banu', 504: 'Disha', 505: 'Ginni', '506': 'Heena'}\n",
      "\n"
     ]
    }
   ],
   "source": [
    "# Adding elements\n",
    "my_dict['506'] = 'Heena'\n",
    "print(\"After adding new student 'Heena':\", my_dict)\n",
    "print(\"\")"
   ]
  },
  {
   "cell_type": "code",
   "execution_count": 57,
   "id": "0039a798",
   "metadata": {},
   "outputs": [
    {
     "name": "stdout",
     "output_type": "stream",
     "text": [
      "After deleting student at roll.no 504('Disha'): {501: 'Ajay', 502: 'Aayush', 503: 'Banu', 505: 'Ginni', '506': 'Heena'}\n",
      "\n",
      "After popping student 'Aayush': {501: 'Ajay', 503: 'Banu', 505: 'Ginni', '506': 'Heena'}\n",
      "Popped value: Aayush\n"
     ]
    }
   ],
   "source": [
    "# Removing elements\n",
    "del my_dict[504]\n",
    "print(\"After deleting student at roll.no 504('Disha'):\", my_dict)\n",
    "print(\"\")\n",
    "\n",
    "removed_value = my_dict.pop(502)\n",
    "print(\"After popping student 'Aayush':\", my_dict)\n",
    "print(\"Popped value:\", removed_value)"
   ]
  },
  {
   "cell_type": "code",
   "execution_count": 53,
   "id": "18df5969",
   "metadata": {},
   "outputs": [
    {
     "name": "stdout",
     "output_type": "stream",
     "text": [
      "After modifying the value: {501: 'Ajay', 503: 'Banu', 505: 'Ginni', '506': 'Heena', 504: 'Dimple'}\n"
     ]
    }
   ],
   "source": [
    "# Modifying elements\n",
    "my_dict[504] = 'Dimple'\n",
    "print(\"After modifying the value:\", my_dict)"
   ]
  },
  {
   "cell_type": "code",
   "execution_count": 58,
   "id": "c57b2132",
   "metadata": {},
   "outputs": [
    {
     "name": "stdout",
     "output_type": "stream",
     "text": [
      "datatype used here is: <class 'dict'>\n"
     ]
    }
   ],
   "source": [
    "#getting to know the datatype used\n",
    "print(\"datatype used here is:\",type(my_dict))"
   ]
  },
  {
   "cell_type": "markdown",
   "id": "47c068da",
   "metadata": {},
   "source": [
    "# 3. Set Operations\n",
    "Sets in Python are unordered collections of unique elements."
   ]
  },
  {
   "cell_type": "markdown",
   "id": "27f56fae",
   "metadata": {},
   "source": [
    "Set Operations:\n",
    "\n",
    "add(x): Adds an element x to the set.\n",
    "\n",
    "remove(x): Removes the specified element x.\n",
    "\n",
    "pop(): Removes and returns an arbitrary element from the set."
   ]
  },
  {
   "cell_type": "code",
   "execution_count": 75,
   "id": "a8c114d4",
   "metadata": {},
   "outputs": [
    {
     "name": "stdout",
     "output_type": "stream",
     "text": [
      "Initial set: {1, 2, 3, 4, 5}\n"
     ]
    }
   ],
   "source": [
    "# Creating a set\n",
    "my_set = {1, 2, 3, 4, 5}\n",
    "print(\"Initial set:\", my_set)\n"
   ]
  },
  {
   "cell_type": "code",
   "execution_count": 76,
   "id": "69397ad8",
   "metadata": {},
   "outputs": [
    {
     "name": "stdout",
     "output_type": "stream",
     "text": [
      "After adding 6: {1, 2, 3, 4, 5, 6}\n"
     ]
    }
   ],
   "source": [
    "# Adding elements\n",
    "my_set.add(6)\n",
    "print(\"After adding 6:\", my_set)"
   ]
  },
  {
   "cell_type": "code",
   "execution_count": 77,
   "id": "ebd0caa8",
   "metadata": {},
   "outputs": [
    {
     "name": "stdout",
     "output_type": "stream",
     "text": [
      "After removing 3: {1, 2, 4, 5, 6}\n",
      "\n",
      "After popping an element: {2, 4, 5, 6}\n",
      "Popped element: 1\n"
     ]
    }
   ],
   "source": [
    "# Removing elements\n",
    "my_set.remove(3)\n",
    "print(\"After removing 3:\", my_set)\n",
    "print('')\n",
    "\n",
    "popped_element = my_set.pop()\n",
    "print(\"After popping an element:\", my_set)\n",
    "print(\"Popped element:\", popped_element)\n"
   ]
  },
  {
   "cell_type": "code",
   "execution_count": 65,
   "id": "4546e99b",
   "metadata": {},
   "outputs": [
    {
     "name": "stdout",
     "output_type": "stream",
     "text": [
      "After modifying (removing 2 and adding 20): {4, 5, 6, 20}\n"
     ]
    }
   ],
   "source": [
    "# Sets do not support indexing, so we can't modify elements directly\n",
    "# But we can remove and then add a new element to simulate modification\n",
    "my_set.remove(2)\n",
    "my_set.add(20)\n",
    "print(\"After modifying (removing 2 and adding 20):\", my_set)"
   ]
  }
 ],
 "metadata": {
  "kernelspec": {
   "display_name": "Python 3 (ipykernel)",
   "language": "python",
   "name": "python3"
  },
  "language_info": {
   "codemirror_mode": {
    "name": "ipython",
    "version": 3
   },
   "file_extension": ".py",
   "mimetype": "text/x-python",
   "name": "python",
   "nbconvert_exporter": "python",
   "pygments_lexer": "ipython3",
   "version": "3.11.5"
  }
 },
 "nbformat": 4,
 "nbformat_minor": 5
}
